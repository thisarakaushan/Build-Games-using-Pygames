{
 "cells": [
  {
   "cell_type": "markdown",
   "id": "8a079292",
   "metadata": {},
   "source": [
    "When you click (left mouse button) on Button 1 (button has a width of 50 px and height 50 px \n",
    "which is positioned at top left corner) on Graphics Window, it should display a custom drawing\n",
    "(consists of three different shapes) that you have drawn using SplashKit SDK. Create another \n",
    "Button 2 on top right corner with width 50 and height 50. When you click on Button 2 it should \n",
    "show another custom drawing consisting of four different shapes after clearing the previous one.\n",
    "Your custom drawings should be meaningful drawings."
   ]
  },
  {
   "cell_type": "code",
   "execution_count": 3,
   "id": "f44e6997",
   "metadata": {},
   "outputs": [
    {
     "name": "stdout",
     "output_type": "stream",
     "text": [
      "Requirement already satisfied: pygame in c:\\users\\kiit\\anaconda3\\lib\\site-packages (2.5.0)\n",
      "Note: you may need to restart the kernel to use updated packages.\n"
     ]
    }
   ],
   "source": [
    "# Requirments\n",
    "\n",
    "pip install pygame"
   ]
  },
  {
   "cell_type": "code",
   "execution_count": 10,
   "id": "d6aa2f0f",
   "metadata": {},
   "outputs": [],
   "source": [
    "import pygame\n",
    "\n",
    "def main():\n",
    "    pygame.init()\n",
    "\n",
    "    # Set the dimensions of the window\n",
    "    screen_width, screen_height = 800, 600\n",
    "    screen = pygame.display.set_mode((screen_width, screen_height))\n",
    "\n",
    "    # Set the window name\n",
    "    window_name = \"Drawing\"\n",
    "\n",
    "    # Set the background color\n",
    "    background_color = (255, 255, 255)\n",
    "\n",
    "    # Set the shape color\n",
    "    shape_color = (0, 0, 255)\n",
    "\n",
    "    # Set the window title\n",
    "    pygame.display.set_caption(window_name)\n",
    "\n",
    "    running = True\n",
    "    while running:\n",
    "        for event in pygame.event.get():\n",
    "            if event.type == pygame.QUIT:\n",
    "                running = False\n",
    "\n",
    "        # Fill the screen with the background color\n",
    "        screen.fill(background_color)\n",
    "\n",
    "        # Draw a simple shape (rectangle) on the screen\n",
    "        # You can modify this to draw other shapes or more complex drawings\n",
    "        shape_rect = pygame.Rect(100, 100, 200, 100)\n",
    "        pygame.draw.rect(screen, shape_color, shape_rect)\n",
    "\n",
    "        # Update the screen\n",
    "        pygame.display.update()\n",
    "\n",
    "    pygame.quit()\n",
    "\n",
    "if __name__ == \"__main__\":\n",
    "    main()\n"
   ]
  },
  {
   "cell_type": "code",
   "execution_count": null,
   "id": "69e365e4",
   "metadata": {},
   "outputs": [],
   "source": []
  }
 ],
 "metadata": {
  "kernelspec": {
   "display_name": "Python 3 (ipykernel)",
   "language": "python",
   "name": "python3"
  },
  "language_info": {
   "codemirror_mode": {
    "name": "ipython",
    "version": 3
   },
   "file_extension": ".py",
   "mimetype": "text/x-python",
   "name": "python",
   "nbconvert_exporter": "python",
   "pygments_lexer": "ipython3",
   "version": "3.9.13"
  }
 },
 "nbformat": 4,
 "nbformat_minor": 5
}
